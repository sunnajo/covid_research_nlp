{
 "cells": [
  {
   "cell_type": "markdown",
   "metadata": {},
   "source": [
    "# Topic Modeling: Round 1"
   ]
  },
  {
   "cell_type": "code",
   "execution_count": 46,
   "metadata": {},
   "outputs": [
    {
     "name": "stderr",
     "output_type": "stream",
     "text": [
      "/Users/sunnajo/anaconda3/envs/metis/lib/python3.8/site-packages/ipykernel/ipkernel.py:287: DeprecationWarning: `should_run_async` will not call `transform_cell` automatically in the future. Please pass the result to `transformed_cell` argument and any exception that happen during thetransform in `preprocessing_exc_tuple` in IPython 7.17 and above.\n",
      "  and should_run_async(code)\n"
     ]
    }
   ],
   "source": [
    "import pandas as pd\n",
    "import numpy as np\n",
    "\n",
    "%matplotlib inline\n",
    "import matplotlib.pyplot as plt\n",
    "import seaborn as sns\n",
    "\n",
    "from random import randint"
   ]
  },
  {
   "cell_type": "code",
   "execution_count": 113,
   "metadata": {},
   "outputs": [
    {
     "name": "stdout",
     "output_type": "stream",
     "text": [
      "The autoreload extension is already loaded. To reload it, use:\n",
      "  %reload_ext autoreload\n"
     ]
    }
   ],
   "source": [
    "# Import module\n",
    "from topic_modeling import *\n",
    "\n",
    "%load_ext autoreload\n",
    "%autoreload 2"
   ]
  },
  {
   "cell_type": "code",
   "execution_count": 2,
   "metadata": {},
   "outputs": [],
   "source": [
    "import nltk\n",
    "from nltk.tokenize import word_tokenize\n",
    "import re\n",
    "from sklearn.feature_extraction.text import CountVectorizer, TfidfVectorizer\n",
    "import gensim\n",
    "from gensim import matutils, models\n",
    "import gensim.corpora as corpora\n",
    "from gensim.models import CoherenceModel\n",
    "from gensim.models.nmf import Nmf\n",
    "import scipy.sparse\n",
    "from sklearn.decomposition import LatentDirichletAllocation, TruncatedSVD, NMF, PCA\n",
    "import operator\n",
    "from sklearn.metrics.pairwise import cosine_similarity"
   ]
  },
  {
   "cell_type": "code",
   "execution_count": 51,
   "metadata": {},
   "outputs": [],
   "source": [
    "import warnings\n",
    "warnings.filterwarnings(\"ignore\", category=DeprecationWarning)"
   ]
  },
  {
   "cell_type": "markdown",
   "metadata": {},
   "source": [
    "### Loading and preparing data"
   ]
  },
  {
   "cell_type": "code",
   "execution_count": 27,
   "metadata": {},
   "outputs": [],
   "source": [
    "# Load preprocessed text (nouns only)\n",
    "import pickle\n",
    "\n",
    "infile = open('processed_text.pkl','rb')\n",
    "text_l = pickle.load(infile)\n",
    "infile.close()"
   ]
  },
  {
   "cell_type": "code",
   "execution_count": 28,
   "metadata": {},
   "outputs": [],
   "source": [
    "# Define min_df and max_df\n",
    "min_df = 31\n",
    "max_df = 6200"
   ]
  },
  {
   "cell_type": "code",
   "execution_count": 29,
   "metadata": {},
   "outputs": [],
   "source": [
    "# Load list of PMIDs to use as abstract labels\n",
    "infile = open('pmids.pkl','rb')\n",
    "pmids = pickle.load(infile)\n",
    "infile.close()"
   ]
  },
  {
   "cell_type": "code",
   "execution_count": 30,
   "metadata": {},
   "outputs": [
    {
     "data": {
      "text/plain": [
       "42977"
      ]
     },
     "execution_count": 30,
     "metadata": {},
     "output_type": "execute_result"
    }
   ],
   "source": [
    "text_l = prep_text(text_l)\n",
    "len(text_l)"
   ]
  },
  {
   "cell_type": "markdown",
   "metadata": {},
   "source": [
    "### Creating DTM"
   ]
  },
  {
   "cell_type": "code",
   "execution_count": 31,
   "metadata": {},
   "outputs": [
    {
     "data": {
      "text/plain": [
       "(42977, 3146)"
      ]
     },
     "execution_count": 31,
     "metadata": {},
     "output_type": "execute_result"
    }
   ],
   "source": [
    "# Count vectorizer\n",
    "cv, dtm_cv = vectorize_dtm('count', text_l, pmids, min_df, max_df)\n",
    "dtm_cv.shape"
   ]
  },
  {
   "cell_type": "code",
   "execution_count": 32,
   "metadata": {},
   "outputs": [
    {
     "data": {
      "text/plain": [
       "(42977, 3146)"
      ]
     },
     "execution_count": 32,
     "metadata": {},
     "output_type": "execute_result"
    }
   ],
   "source": [
    "# TFIDF vectorizer\n",
    "tfidf, dtm_tfidf = vectorize_dtm('tfidf', text_l, pmids, min_df, max_df)\n",
    "dtm_tfidf.shape"
   ]
  },
  {
   "cell_type": "markdown",
   "metadata": {},
   "source": [
    "## Trying different topic modeling models/methods"
   ]
  },
  {
   "cell_type": "markdown",
   "metadata": {},
   "source": [
    "### LDA\n",
    "\n",
    "Iterations:\n",
    "- LDA with gensim: used bag-of-words model in order to create id2word dictionary, want to calculate coherence score\n",
    "- LDA with sklearn"
   ]
  },
  {
   "cell_type": "markdown",
   "metadata": {},
   "source": [
    "### LDA - Gensim"
   ]
  },
  {
   "cell_type": "markdown",
   "metadata": {},
   "source": [
    "Iteration 1:\n",
    "- Bag-of-words\n",
    "- Parameters: [num_topics=10, random_state=0, passes=10, update_every=1, chunksize=100, alpha='auto', per_word_topics=True]\n",
    "- Coherence score: ~0.49\n",
    "\n",
    "Iteration 2:\n",
    "- Bag-of-words\n",
    "- Parameters: [num_topics=20, random_state=0, passes=10, update_every=1, chunksize=100, alpha='auto', per_word_topics=True]\n",
    "- Coherence score: ~0.469\n",
    "\n",
    "Iteration 3:\n",
    "- Bag-of-words\n",
    "- Parameters: [num_topics=15, random_state=0, passes=10, update_every=1, chunksize=100, alpha='auto', per_word_topics=True]\n",
    "- Coherence score: ~0.426\n",
    "\n",
    "Iteration 4:\n",
    "- Bag-of-words\n",
    "- Parameters: [num_topics=12, random_state=0, passes=10, update_every=1, chunksize=100, alpha='auto', per_word_topics=True]\n",
    "- Coherence score: ~0.474\n",
    "\n",
    "Iteration 5: on grammed text\n",
    "- Bag-of-words\n",
    "- Parameters: [num_topics=10, random_state=0, passes=10, update_every=1, chunksize=100, alpha='auto', per_word_topics=True]\n",
    "- Coherence score: ~0.47\n",
    "\n",
    "Iteration 6: on grammed text\n",
    "- Bag-of-words\n",
    "- Parameters: [num_topics=15, random_state=0, passes=10, update_every=1, chunksize=100, alpha='auto', per_word_topics=True]\n",
    "- Coherence score: ~0.43\n",
    "\n",
    "Iteration 6: on grammed text\n",
    "- Bag-of-words\n",
    "- Parameters: [num_topics=8, random_state=0, passes=10, update_every=1, chunksize=100, alpha='auto', per_word_topics=True]\n",
    "- Coherence score: ~0.51 (but poor distribution of topics on viz)\n",
    "\n",
    "Iteration 7: on grammed text\n",
    "- Bag-of-words\n",
    "- Parameters: [num_topics=20, random_state=0, passes=10, update_every=1, chunksize=100, alpha='auto', per_word_topics=True]\n",
    "- Coherence score: ~0.39"
   ]
  },
  {
   "cell_type": "code",
   "execution_count": 33,
   "metadata": {},
   "outputs": [],
   "source": [
    "lda_model, corpus, id2word = gensim_lda(text_l, num_topics=15)"
   ]
  },
  {
   "cell_type": "code",
   "execution_count": 23,
   "metadata": {},
   "outputs": [
    {
     "data": {
      "text/plain": [
       "[(0,\n",
       "  '0.340*\"pneumonia\" + 0.137*\"stage\" + 0.061*\"face\" + 0.030*\"limitation\" + 0.030*\"solution\" + 0.025*\"consultation\" + 0.025*\"culture\" + 0.024*\"shortage\" + 0.021*\"food\" + 0.020*\"aerosol\"'),\n",
       " (1,\n",
       "  '0.121*\"respiratory\" + 0.106*\"risk\" + 0.049*\"death\" + 0.039*\"mortality\" + 0.035*\"laboratory\" + 0.034*\"population\" + 0.024*\"condition\" + 0.023*\"outcome\" + 0.022*\"severity\" + 0.021*\"history\"'),\n",
       " (2,\n",
       "  '0.170*\"activity\" + 0.079*\"survey\" + 0.074*\"resident\" + 0.055*\"stress\" + 0.036*\"physician\" + 0.033*\"document\" + 0.031*\"training\" + 0.030*\"respondent\" + 0.029*\"screening\" + 0.027*\"item\"'),\n",
       " (3,\n",
       "  '0.099*\"score\" + 0.080*\"distress\" + 0.072*\"anxiety\" + 0.059*\"duration\" + 0.049*\"disorder\" + 0.042*\"scale\" + 0.041*\"questionnaire\" + 0.038*\"male\" + 0.034*\"depression\" + 0.028*\"rehabilitation\"'),\n",
       " (4,\n",
       "  '0.107*\"staff\" + 0.101*\"worker\" + 0.079*\"surgery\" + 0.061*\"equipment\" + 0.060*\"incidence\" + 0.056*\"capacity\" + 0.045*\"phase\" + 0.042*\"prevent\" + 0.038*\"program\" + 0.036*\"safety\"'),\n",
       " (5,\n",
       "  '0.167*\"transmission\" + 0.071*\"child\" + 0.063*\"contact\" + 0.051*\"family\" + 0.046*\"isolation\" + 0.046*\"exposure\" + 0.035*\"protection\" + 0.024*\"member\" + 0.023*\"mask\" + 0.022*\"facility\"'),\n",
       " (6,\n",
       "  '0.126*\"control\" + 0.079*\"model\" + 0.073*\"diagnosis\" + 0.027*\"distribution\" + 0.023*\"chest\" + 0.023*\"progression\" + 0.021*\"correlation\" + 0.020*\"parameter\" + 0.019*\"sensitivity\" + 0.017*\"identification\"'),\n",
       " (7,\n",
       "  '0.126*\"detection\" + 0.109*\"antibody\" + 0.059*\"image\" + 0.050*\"specimen\" + 0.044*\"emergence\" + 0.043*\"assay\" + 0.042*\"serum\" + 0.037*\"load\" + 0.034*\"concentration\" + 0.032*\"student\"'),\n",
       " (8,\n",
       "  '0.039*\"country\" + 0.031*\"management\" + 0.031*\"world\" + 0.028*\"emergency\" + 0.027*\"prevention\" + 0.025*\"spread\" + 0.025*\"information\" + 0.024*\"strategy\" + 0.022*\"response\" + 0.020*\"community\"'),\n",
       " (9,\n",
       "  '0.178*\"hospital\" + 0.068*\"woman\" + 0.060*\"admission\" + 0.054*\"injury\" + 0.048*\"failure\" + 0.039*\"hospitalization\" + 0.033*\"ards\" + 0.028*\"heart\" + 0.026*\"university\" + 0.026*\"diarrhea\"'),\n",
       " (10,\n",
       "  '0.141*\"cancer\" + 0.054*\"delivery\" + 0.053*\"range\" + 0.050*\"visit\" + 0.049*\"reduction\" + 0.039*\"implication\" + 0.038*\"reference\" + 0.033*\"delay\" + 0.029*\"ward\" + 0.026*\"cost\"'),\n",
       " (11,\n",
       "  '0.109*\"vaccine\" + 0.095*\"development\" + 0.077*\"trial\" + 0.043*\"examination\" + 0.042*\"replication\" + 0.036*\"protocol\" + 0.031*\"combination\" + 0.030*\"ability\" + 0.028*\"site\" + 0.022*\"safety\"'),\n",
       " (12,\n",
       "  '0.156*\"lesion\" + 0.078*\"reaction\" + 0.070*\"consolidation\" + 0.065*\"efficacy\" + 0.056*\"scan\" + 0.052*\"kidney\" + 0.048*\"medication\" + 0.043*\"size\" + 0.043*\"ground_glass_opacities\" + 0.032*\"lobe\"'),\n",
       " (13,\n",
       "  '0.163*\"cell\" + 0.117*\"lung\" + 0.060*\"gene\" + 0.047*\"host\" + 0.047*\"mechanism\" + 0.044*\"response\" + 0.038*\"expression\" + 0.035*\"respiratory\" + 0.030*\"influenza\" + 0.028*\"tissue\"'),\n",
       " (14,\n",
       "  '0.074*\"receptor\" + 0.064*\"sequence\" + 0.046*\"target\" + 0.044*\"inhibitor\" + 0.037*\"genome\" + 0.036*\"interaction\" + 0.033*\"agent\" + 0.032*\"function\" + 0.032*\"structure\" + 0.029*\"entry\"')]"
      ]
     },
     "execution_count": 23,
     "metadata": {},
     "output_type": "execute_result"
    }
   ],
   "source": [
    "# Look at topics\n",
    "lda_model.print_topics()"
   ]
  },
  {
   "cell_type": "markdown",
   "metadata": {},
   "source": [
    "Evaluating model:\n",
    "- Perplexity\n",
    "- Coherence score"
   ]
  },
  {
   "cell_type": "code",
   "execution_count": 25,
   "metadata": {},
   "outputs": [
    {
     "name": "stdout",
     "output_type": "stream",
     "text": [
      "\n",
      "Perplexity:  -11.947351416575238\n",
      "\n",
      "Coherence Score:  0.445838467838912\n"
     ]
    }
   ],
   "source": [
    "lda_score(text_l, corpus, id2word, lda_model)"
   ]
  },
  {
   "cell_type": "code",
   "execution_count": null,
   "metadata": {},
   "outputs": [],
   "source": [
    "# Calculate coherence scores for different numbers of topics\n",
    "model_list, coherence_values = compute_coherence_values(texts=text_l, dictionary=id2word, corpus=corpus, start=2, limit=40, step=6)\n",
    "\n",
    "# Plot\n",
    "limit=40; start=2; step=6;\n",
    "x = range(start, limit, step)\n",
    "plt.plot(x, coherence_values)\n",
    "plt.xlabel(\"Number of Topics\")\n",
    "plt.ylabel(\"Coherence Score\");"
   ]
  },
  {
   "cell_type": "markdown",
   "metadata": {},
   "source": [
    "### LDA - sklearn"
   ]
  },
  {
   "cell_type": "markdown",
   "metadata": {},
   "source": [
    "*Used CountVectorizer since TFIDF is built in?*\n",
    "\n",
    "Iteration 1:\n",
    "- Vectorizer parameters: min_df=0.01, max_df=0.4\n",
    "- LDA model parameters: n_components=10\n",
    "- vis: most of circles are overlapping\n",
    "\n",
    "Iteration 2:\n",
    "- Vectorizer parameters: min_df=15, max_df=0.2\n",
    "- LDA model parameters: n_components=15\n",
    "- vis: most of circles are overlapping and close together\n",
    "\n",
    "Iteration 3:\n",
    "- Vectorizer parameters: min_df=0.01, max_df=0.25\n",
    "- LDA model parameters: n_components=10\n",
    "- vis: circles are more spread out but some are completely overlapping\n",
    "\n",
    "Iteration 4:\n",
    "- Vectorizer parameters: min_df=50, max_df=0.2\n",
    "- LDA model parameters: n_components=10\n",
    "- vis: circles are more spread out but some are completely overlapping"
   ]
  },
  {
   "cell_type": "code",
   "execution_count": 36,
   "metadata": {},
   "outputs": [
    {
     "name": "stderr",
     "output_type": "stream",
     "text": [
      "/Users/sunnajo/anaconda3/envs/metis/lib/python3.8/site-packages/joblib/externals/loky/process_executor.py:688: UserWarning: A worker stopped while some jobs were given to the executor. This can be caused by a too short worker timeout or by a memory leak.\n",
      "  warnings.warn(\n"
     ]
    }
   ],
   "source": [
    "# Count vectorizer\n",
    "lda_cv, lda_topic_matrix_cv = sklearn_lda(dtm_cv, n_components=15)"
   ]
  },
  {
   "cell_type": "code",
   "execution_count": 37,
   "metadata": {},
   "outputs": [
    {
     "name": "stdout",
     "output_type": "stream",
     "text": [
      "Top 15 words for Topic #0\n",
      "['protocol', 'outcome', 'quality', 'support', 'scale', 'safety', 'nurse', 'hydroxychloroquine', 'efficacy', 'distress', 'intervention', 'score', 'depression', 'anxiety', 'trial']\n",
      "\n",
      "\n",
      "Top 15 words for Topic #1\n",
      "['transmission', 'scenario', 'distancing', 'policy', 'strategy', 'government', 'adult', 'spread', 'community', 'state', 'world', 'death', 'population', 'child', 'country']\n",
      "\n",
      "\n",
      "Top 15 words for Topic #2\n",
      "['variable', 'attitude', 'pattern', 'subject', 'relationship', 'model', 'proportion', 'diabetes', 'odds', 'percentage', 'population', 'association', 'control', 'network', 'incidence']\n",
      "\n",
      "\n",
      "Top 15 words for Topic #3\n",
      "['activity', 'medication', 'problem', 'question', 'perception', 'food', 'questionnaire', 'information', 'concern', 'respondent', 'medium', 'behavior', 'stress', 'disorder', 'survey']\n",
      "\n",
      "\n",
      "Top 15 words for Topic #4\n",
      "['entry', 'lung', 'sequence', 'tissue', 'interaction', 'development', 'expression', 'gene', 'mechanism', 'inhibitor', 'target', 'host', 'receptor', 'vaccine', 'cell']\n",
      "\n",
      "\n",
      "Top 15 words for Topic #5\n",
      "['accuracy', 'triage', 'device', 'reaction', 'chest', 'image', 'fever', 'specificity', 'assay', 'lesion', 'pneumonia', 'sensitivity', 'laboratory', 'detection', 'diagnosis']\n",
      "\n",
      "\n",
      "Top 15 words for Topic #6\n",
      "['society', 'policy', 'resident', 'facility', 'equipment', 'professional', 'work', 'support', 'information', 'community', 'resource', 'crisis', 'emergency', 'staff', 'worker']\n",
      "\n",
      "\n",
      "Top 15 words for Topic #7\n",
      "['order', 'phase', 'challenge', 'protection', 'safety', 'organization', 'spread', 'transmission', 'recommendation', 'strategy', 'prevention', 'world', 'guideline', 'control', 'management']\n",
      "\n",
      "\n",
      "Top 15 words for Topic #8\n",
      "['density', 'correlation', 'particle', 'energy', 'reduction', 'product', 'droplet', 'parameter', 'simulation', 'surface', 'transmission', 'concentration', 'dynamic', 'mask', 'activity']\n",
      "\n",
      "\n",
      "Top 15 words for Topic #9\n",
      "['opportunity', 'framework', 'training', 'approach', 'telehealth', 'access', 'experience', 'delivery', 'challenge', 'provider', 'technology', 'education', 'face', 'program', 'student']\n",
      "\n",
      "\n",
      "Top 15 words for Topic #10\n",
      "['frequency', 'death', 'indicator', 'meta', 'mortality', 'andor', 'estimate', 'pregnancy', 'outcome', 'kidney', 'database', 'population', 'search', 'prevalence', 'woman']\n",
      "\n",
      "\n",
      "Top 15 words for Topic #11\n",
      "['detection', 'specimen', 'serum', 'isolation', 'travel', 'household', 'presence', 'load', 'exposure', 'recovery', 'cluster', 'surveillance', 'contact', 'transmission', 'antibody']\n",
      "\n",
      "\n",
      "Top 15 words for Topic #12\n",
      "['outpatient', 'phase', 'change', 'rehabilitation', 'approach', 'delay', 'stage', 'reduction', 'prediction', 'temperature', 'trend', 'volume', 'intervention', 'cancer', 'model']\n",
      "\n",
      "\n",
      "Top 15 words for Topic #13\n",
      "['order', 'decrease', 'reduction', 'life', 'income', 'loss', 'restriction', 'administration', 'telemedicine', 'family', 'visit', 'home', 'emergency', 'change', 'surgery']\n",
      "\n",
      "\n",
      "Top 15 words for Topic #14\n",
      "['mechanical_ventilation', 'ards', 'pneumonia', 'course', 'cohort', 'comorbidities', 'hospitalization', 'failure', 'injury', 'lung', 'severity', 'death', 'outcome', 'admission', 'mortality']\n",
      "\n",
      "\n"
     ]
    }
   ],
   "source": [
    "# Get topics: CV\n",
    "sklearn_lda_topics(lda_cv, cv)"
   ]
  },
  {
   "cell_type": "code",
   "execution_count": 38,
   "metadata": {},
   "outputs": [],
   "source": [
    "# TFIDF vectorizer\n",
    "lda_tfidf, lda_topic_matrix_tfidf = sklearn_lda(dtm_tfidf, n_components=15)"
   ]
  },
  {
   "cell_type": "code",
   "execution_count": 39,
   "metadata": {},
   "outputs": [
    {
     "name": "stdout",
     "output_type": "stream",
     "text": [
      "Top 15 words for Topic #0\n",
      "['multisystem', 'household', 'parent', 'wastewater', 'saliva', 'traveler', 'coagulation', 'seizure', 'family', 'pulmonary_embolism', 'anticoagulation', 'adolescent', 'thrombosis', 'adult', 'child']\n",
      "\n",
      "\n",
      "Top 15 words for Topic #1\n",
      "['aerosolization', 'resumption', 'equipment', 'dermatology', 'decontamination', 'immunization', 'protection', 'face', 'particle', 'pharmacist', 'pharmacy', 'aerosol', 'droplet', 'respirator', 'mask']\n",
      "\n",
      "\n",
      "Top 15 words for Topic #2\n",
      "['distress', 'ultrasound', 'oxygenation', 'proliferation', 'pressure', 'emission', 'mechanical_ventilation', 'failure', 'flow', 'intubation', 'ventilator', 'oxygen', 'link', 'ventilation', 'ards']\n",
      "\n",
      "\n",
      "Top 15 words for Topic #3\n",
      "['prospect', 'conversion', 'everyone', 'landscape', 'psychiatry', 'commentary', 'editorial', 'encephalitis', 'considers', 'career', 'confusion', 'nutrition', 'anesthesia', 'market', 'rehabilitation']\n",
      "\n",
      "\n",
      "Top 15 words for Topic #4\n",
      "['activity', 'compound', 'interaction', 'replication', 'entry', 'gene', 'development', 'mechanism', 'expression', 'target', 'inhibitor', 'host', 'vaccine', 'receptor', 'cell']\n",
      "\n",
      "\n",
      "Top 15 words for Topic #5\n",
      "['breast', 'air_pollution', 'tracheostomy', 'tumor', 'concentration', 'reaction', 'load', 'laboratory', 'specificity', 'assay', 'swab', 'diagnosis', 'sensitivity', 'specimen', 'detection']\n",
      "\n",
      "\n",
      "Top 15 words for Topic #6\n",
      "['student', 'worker', 'infant', 'score', 'distress', 'respondent', 'disorder', 'questionnaire', 'behavior', 'pregnancy', 'survey', 'stress', 'depression', 'woman', 'anxiety']\n",
      "\n",
      "\n",
      "Top 15 words for Topic #7\n",
      "['failure', 'hypertension', 'cohort', 'hospitalization', 'laboratory', 'comorbidities', 'diagnosis', 'death', 'severity', 'lung', 'injury', 'pneumonia', 'outcome', 'admission', 'mortality']\n",
      "\n",
      "\n",
      "Top 15 words for Topic #8\n",
      "['trend', 'control', 'temperature', 'dynamic', 'spread', 'mortality', 'incidence', 'parameter', 'prediction', 'population', 'estimate', 'transmission', 'death', 'country', 'model']\n",
      "\n",
      "\n",
      "Top 15 words for Topic #9\n",
      "['spread', 'cancer', 'crisis', 'resource', 'recommendation', 'surgery', 'control', 'strategy', 'challenge', 'community', 'transmission', 'emergency', 'world', 'management', 'country']\n",
      "\n",
      "\n",
      "Top 15 words for Topic #10\n",
      "['isolates', 'variant', 'nucleic_acid', 'seroprevalence', 'detection', 'serology', 'neonate', 'gene', 'endoscopy', 'serum', 'mutation', 'assay', 'genome', 'sequence', 'antibody']\n",
      "\n",
      "\n",
      "Top 15 words for Topic #11\n",
      "['bowel', 'titer', 'frailty', 'liver', 'korea', 'passenger', 'hemodialysis', 'immunosuppression', 'recipient', 'dialysis', 'donor', 'kidney', 'transplant_recipients', 'transplant', 'transplantation']\n",
      "\n",
      "\n",
      "Top 15 words for Topic #12\n",
      "['tissue', 'muscle', 'incubation', 'hypercoagulability', 'conjunctivitis', 'biopsy', 'betacoronavirus', 'pathology', 'headache', 'examination', 'autopsy', 'stroke', 'skin', 'lesion', 'brain']\n",
      "\n",
      "\n",
      "Top 15 words for Topic #13\n",
      "['insulin', 'nsaid', 'maternity', 'echocardiography', 'mainland', 'myocardial_infarction', 'stemi', 'asthma', 'lethality', 'interval', 'diabetes', 'transmissibility', 'influenza', 'corrects_article_doi', 'peak']\n",
      "\n",
      "\n",
      "Top 15 words for Topic #14\n",
      "['convalescent_plasma', 'benefit', 'remdesivir', 'administration', 'mortality', 'outcome', 'improvement', 'corticosteroid', 'tocilizumab', 'safety', 'agent', 'chloroquine', 'efficacy', 'hydroxychloroquine', 'trial']\n",
      "\n",
      "\n"
     ]
    }
   ],
   "source": [
    "# Get topics: TFIDF\n",
    "sklearn_lda_topics(lda_tfidf, tfidf)"
   ]
  },
  {
   "cell_type": "markdown",
   "metadata": {},
   "source": [
    "### Visualize LDA"
   ]
  },
  {
   "cell_type": "markdown",
   "metadata": {},
   "source": [
    "*Gensim model*"
   ]
  },
  {
   "cell_type": "code",
   "execution_count": null,
   "metadata": {},
   "outputs": [],
   "source": [
    "import pyLDAvis\n",
    "import pyLDAvis.gensim\n",
    "pyLDAvis.enable_notebook()"
   ]
  },
  {
   "cell_type": "code",
   "execution_count": null,
   "metadata": {},
   "outputs": [],
   "source": [
    "pyLDAvis.gensim.prepare(lda_model, corpus, id2word)"
   ]
  },
  {
   "cell_type": "markdown",
   "metadata": {},
   "source": [
    "*sklearn model*"
   ]
  },
  {
   "cell_type": "code",
   "execution_count": null,
   "metadata": {},
   "outputs": [],
   "source": [
    "import pyLDAvis.sklearn\n",
    "pyLDAvis.enable_notebook()"
   ]
  },
  {
   "cell_type": "code",
   "execution_count": null,
   "metadata": {},
   "outputs": [],
   "source": [
    "# Count vectorizer\n",
    "pyLDAvis.sklearn.prepare(lda_cv, np.matrix(dtm_cv), cv)"
   ]
  },
  {
   "cell_type": "code",
   "execution_count": null,
   "metadata": {},
   "outputs": [],
   "source": [
    "# TFIDF vectorizer\n",
    "pyLDAvis.sklearn.prepare(lda_tfidf, np.matrix(dtm_tfidf), tfidf)"
   ]
  },
  {
   "cell_type": "markdown",
   "metadata": {},
   "source": [
    "## PCA"
   ]
  },
  {
   "cell_type": "code",
   "execution_count": 65,
   "metadata": {},
   "outputs": [],
   "source": [
    "# Count vectorizer\n",
    "pca_cv = pca_model(cv, dtm_cv, n_components=15, abstract_labels=pmids)"
   ]
  },
  {
   "cell_type": "code",
   "execution_count": 66,
   "metadata": {},
   "outputs": [],
   "source": [
    "# TFIDF vectorizer\n",
    "pca_tfidf = pca_model(tfidf, dtm_tfidf, n_components=15, abstract_labels=pmids)"
   ]
  },
  {
   "cell_type": "code",
   "execution_count": 67,
   "metadata": {},
   "outputs": [
    {
     "name": "stdout",
     "output_type": "stream",
     "text": [
      "\n",
      "Topic  0\n",
      "cell, expression, receptor, lung, host, vaccine, antibody, gene, target, entry, tissue, mechanism, inhibitor, replication, spike\n",
      "\n",
      "Topic  1\n",
      "mortality, death, outcome, model, admission, trial, cancer, population, cohort, country, severity, comorbidities, hospitalization, injury, association\n",
      "\n",
      "Topic  2\n",
      "model, country, transmission, cell, population, death, control, spread, contact, strategy, policy, world, prediction, community, distancing\n",
      "\n",
      "Topic  3\n",
      "trial, intervention, anxiety, control, vaccine, cell, protocol, survey, outcome, worker, randomization, safety, depression, design, support\n",
      "\n",
      "Topic  4\n",
      "anxiety, child, cell, cancer, depression, survey, population, student, stress, woman, adult, score, family, worker, questionnaire\n",
      "\n",
      "Topic  5\n",
      "cancer, surgery, management, country, model, recommendation, resource, emergency, cell, lung, guideline, strategy, challenge, delay, approach\n",
      "\n",
      "Topic  6\n",
      "child, cancer, transmission, country, adult, vaccine, contact, control, trial, family, parent, management, surgery, recommendation, world\n",
      "\n",
      "Topic  7\n",
      "model, child, cancer, lung, outcome, prediction, pneumonia, diagnosis, score, admission, severity, trial, anxiety, image, parameter\n",
      "\n",
      "Topic  8\n",
      "vaccine, country, antibody, cancer, development, anxiety, child, model, student, death, trial, population, depression, vaccination, world\n",
      "\n",
      "Topic  9\n",
      "antibody, woman, vaccine, transmission, cancer, population, anxiety, control, contact, detection, worker, depression, pregnancy, assay, prevalence\n",
      "\n",
      "Topic  10\n",
      "death, woman, country, trial, lung, pregnancy, outcome, pneumonia, admission, anxiety, lesion, diagnosis, change, delivery, laboratory\n",
      "\n",
      "Topic  11\n",
      "death, vaccine, student, resident, surgery, emergency, education, development, community, management, staff, program, visit, home, admission\n",
      "\n",
      "Topic  12\n",
      "woman, management, vaccine, surgery, emergency, pregnancy, mortality, delivery, country, outcome, model, recommendation, population, cell, guideline\n",
      "\n",
      "Topic  13\n",
      "student, woman, transmission, education, country, cancer, school, trial, pregnancy, mask, mortality, face, university, course, delivery\n",
      "\n",
      "Topic  14\n",
      "control, antibody, student, country, detection, diagnosis, sensitivity, emergency, admission, lung, management, assay, specificity, laboratory, prevention\n"
     ]
    }
   ],
   "source": [
    "# Look at components/topics: CV\n",
    "display_topics(pca_cv, cv.get_feature_names(), 15)"
   ]
  },
  {
   "cell_type": "code",
   "execution_count": 68,
   "metadata": {},
   "outputs": [
    {
     "name": "stdout",
     "output_type": "stream",
     "text": [
      "\n",
      "Topic  0\n",
      "cell, receptor, antibody, host, expression, vaccine, lung, target, inhibitor, gene, entry, mechanism, injury, mortality, tissue\n",
      "\n",
      "Topic  1\n",
      "mortality, death, admission, outcome, cancer, injury, comorbidities, severity, cohort, hospitalization, mechanical_ventilation, hypertension, failure, pneumonia, laboratory\n",
      "\n",
      "Topic  2\n",
      "child, adult, anxiety, antibody, family, parent, adolescent, woman, school, depression, infant, multisystem, laboratory, course, pneumonia\n",
      "\n",
      "Topic  3\n",
      "cancer, child, surgery, cell, management, lung, recommendation, adult, guideline, anxiety, oncology, staff, surgeon, emergency, family\n",
      "\n",
      "Topic  4\n",
      "child, cancer, country, model, transmission, vaccine, death, world, spread, control, population, strategy, development, prevention, contact\n",
      "\n",
      "Topic  5\n",
      "antibody, detection, vaccine, assay, diagnosis, sensitivity, specificity, trial, serum, laboratory, pneumonia, specimen, development, titer, neutralization\n",
      "\n",
      "Topic  6\n",
      "antibody, model, cancer, anxiety, depression, detection, population, sensitivity, assay, prevalence, specificity, stress, survey, score, student\n",
      "\n",
      "Topic  7\n",
      "vaccine, trial, anxiety, mortality, cancer, depression, development, antibody, death, population, stress, student, survey, child, country\n",
      "\n",
      "Topic  8\n",
      "model, trial, student, inhibitor, compound, prediction, child, activity, lung, parameter, protease, image, simulation, approach, target\n",
      "\n",
      "Topic  9\n",
      "woman, trial, transmission, pregnancy, vaccine, pneumonia, cancer, anxiety, model, lung, control, contact, outcome, depression, intervention\n",
      "\n",
      "Topic  10\n",
      "country, pneumonia, world, lung, woman, death, diagnosis, organization, lesion, crisis, injury, government, detection, chest, policy\n",
      "\n",
      "Topic  11\n",
      "woman, surgery, pregnancy, model, antibody, delivery, emergency, cell, recommendation, admission, outcome, visit, surgeon, management, resource\n",
      "\n",
      "Topic  12\n",
      "inhibitor, transmission, compound, student, protease, cancer, activity, target, mortality, interaction, host, sequence, mask, genome, gene\n",
      "\n",
      "Topic  13\n",
      "student, trial, cell, education, community, school, antibody, challenge, program, control, outcome, face, technology, mask, cancer\n",
      "\n",
      "Topic  14\n",
      "vaccine, student, transmission, development, injury, lung, education, surgery, admission, mortality, school, pneumonia, vaccination, emergency, university\n"
     ]
    }
   ],
   "source": [
    "# Look at components: TFIDF\n",
    "display_topics(pca_tfidf, tfidf.get_feature_names(), 15)"
   ]
  },
  {
   "cell_type": "code",
   "execution_count": 84,
   "metadata": {},
   "outputs": [
    {
     "data": {
      "text/plain": [
       "array([0.01770616, 0.01584338, 0.01298665, 0.01222725, 0.01159397,\n",
       "       0.01121301, 0.01040167, 0.01012347, 0.00878017, 0.00837474,\n",
       "       0.00816206, 0.00760187, 0.00732808, 0.00710646, 0.00698762])"
      ]
     },
     "execution_count": 84,
     "metadata": {},
     "output_type": "execute_result"
    }
   ],
   "source": [
    "# Explained variance: CV\n",
    "pca_cv.explained_variance_ratio_"
   ]
  },
  {
   "cell_type": "code",
   "execution_count": 85,
   "metadata": {},
   "outputs": [
    {
     "data": {
      "text/plain": [
       "array([0.00901361, 0.00780657, 0.00668843, 0.00655823, 0.00596854,\n",
       "       0.00563122, 0.00527257, 0.0052379 , 0.00473963, 0.00451238,\n",
       "       0.00431167, 0.00415371, 0.00408087, 0.00386796, 0.00385413])"
      ]
     },
     "execution_count": 85,
     "metadata": {},
     "output_type": "execute_result"
    }
   ],
   "source": [
    "# Explained variance: TFIDF\n",
    "pca_tfidf.explained_variance_ratio_"
   ]
  },
  {
   "cell_type": "markdown",
   "metadata": {},
   "source": [
    "## LSA"
   ]
  },
  {
   "cell_type": "code",
   "execution_count": 88,
   "metadata": {},
   "outputs": [
    {
     "name": "stdout",
     "output_type": "stream",
     "text": [
      "Explained variance:  [0.01076722 0.01770152 0.0149039  0.01277487 0.01177773 0.01124004\n",
      " 0.0104397  0.01016761 0.00890842 0.0083736  0.00832739 0.00791943\n",
      " 0.00745294 0.00715371 0.0069527 ]\n"
     ]
    }
   ],
   "source": [
    "# Count vectorizer\n",
    "lsa_cv, lsa_twdf_cv, lsa_dtdf_cv = lsa_model(n_components=15, dtm=dtm_cv, vectorizer=cv, abstract_labels=pmids)"
   ]
  },
  {
   "cell_type": "code",
   "execution_count": 89,
   "metadata": {},
   "outputs": [
    {
     "name": "stdout",
     "output_type": "stream",
     "text": [
      "Explained variance:  [0.01076722 0.01770152 0.0149039  0.01277487 0.01177773 0.01124004\n",
      " 0.0104397  0.01016761 0.00890842 0.0083736  0.00832739 0.00791943\n",
      " 0.00745294 0.00715371 0.0069527 ]\n"
     ]
    }
   ],
   "source": [
    "# TFIDF vectorizer\n",
    "lsa_tfidf, lsa_twdf_tfdif, lsa_dtdf_tfidf = lsa_model(n_components=15, dtm=dtm_cv, vectorizer=tfidf, abstract_labels=pmids)"
   ]
  },
  {
   "cell_type": "code",
   "execution_count": 90,
   "metadata": {},
   "outputs": [
    {
     "name": "stdout",
     "output_type": "stream",
     "text": [
      "\n",
      "Topic  0\n",
      "mortality, model, death, country, cell, population, control, outcome, transmission, trial, strategy, intervention, management, world, cancer\n",
      "\n",
      "Topic  1\n",
      "cell, expression, receptor, lung, host, vaccine, antibody, gene, target, entry, tissue, mechanism, trial, inhibitor, replication\n",
      "\n",
      "Topic  2\n",
      "mortality, death, outcome, admission, cancer, cohort, trial, comorbidities, injury, severity, hospitalization, mechanical_ventilation, ratio, association, hypertension\n",
      "\n",
      "Topic  3\n",
      "model, country, transmission, death, population, spread, prediction, parameter, policy, world, dynamic, contact, estimate, cell, distancing\n",
      "\n",
      "Topic  4\n",
      "trial, model, vaccine, intervention, control, protocol, randomization, efficacy, safety, transmission, design, size, development, hydroxychloroquine, antibody\n",
      "\n",
      "Topic  5\n",
      "cancer, surgery, management, recommendation, country, emergency, resource, guideline, lung, challenge, strategy, model, approach, delay, world\n",
      "\n",
      "Topic  6\n",
      "child, transmission, cancer, country, vaccine, adult, management, contact, control, world, death, antibody, diagnosis, recommendation, surgery\n",
      "\n",
      "Topic  7\n",
      "model, child, cancer, trial, lung, outcome, adult, prediction, anxiety, intervention, diagnosis, pneumonia, parameter, score, image\n",
      "\n",
      "Topic  8\n",
      "country, cancer, trial, anxiety, vaccine, death, child, population, depression, model, student, stress, survey, world, development\n",
      "\n",
      "Topic  9\n",
      "vaccine, antibody, development, mortality, student, detection, assay, sensitivity, vaccination, diagnosis, specificity, approach, target, spike, strategy\n",
      "\n",
      "Topic  10\n",
      "woman, transmission, antibody, anxiety, population, cancer, control, vaccine, death, contact, depression, worker, pregnancy, prevalence, detection\n",
      "\n",
      "Topic  11\n",
      "death, woman, emergency, management, lung, admission, pregnancy, antibody, change, outcome, pneumonia, diagnosis, delivery, laboratory, visit\n",
      "\n",
      "Topic  12\n",
      "death, student, transmission, mask, education, face, vaccine, resident, cancer, contact, community, school, staff, worker, home\n",
      "\n",
      "Topic  13\n",
      "woman, vaccine, mortality, pregnancy, population, mask, delivery, cell, model, transmission, face, surgery, recommendation, development, state\n",
      "\n",
      "Topic  14\n",
      "worker, anxiety, vaccine, death, management, surgery, staff, emergency, depression, model, guideline, stress, equipment, recommendation, development\n"
     ]
    }
   ],
   "source": [
    "# Look at components/topics: CV\n",
    "display_topics(lsa_cv, cv.get_feature_names(), 15)"
   ]
  },
  {
   "cell_type": "code",
   "execution_count": 91,
   "metadata": {},
   "outputs": [
    {
     "name": "stdout",
     "output_type": "stream",
     "text": [
      "\n",
      "Topic  0\n",
      "mortality, model, death, country, cell, population, control, outcome, transmission, trial, strategy, intervention, management, world, cancer\n",
      "\n",
      "Topic  1\n",
      "cell, expression, receptor, lung, host, vaccine, antibody, gene, target, entry, tissue, mechanism, trial, inhibitor, replication\n",
      "\n",
      "Topic  2\n",
      "mortality, death, outcome, admission, cancer, cohort, trial, comorbidities, injury, severity, hospitalization, mechanical_ventilation, ratio, association, hypertension\n",
      "\n",
      "Topic  3\n",
      "model, country, transmission, death, population, spread, prediction, parameter, policy, world, dynamic, contact, estimate, cell, distancing\n",
      "\n",
      "Topic  4\n",
      "trial, model, vaccine, intervention, control, protocol, randomization, efficacy, safety, transmission, design, size, development, hydroxychloroquine, antibody\n",
      "\n",
      "Topic  5\n",
      "cancer, surgery, management, recommendation, country, emergency, resource, guideline, lung, challenge, strategy, model, approach, delay, world\n",
      "\n",
      "Topic  6\n",
      "child, transmission, cancer, country, vaccine, adult, management, contact, control, world, death, antibody, diagnosis, recommendation, surgery\n",
      "\n",
      "Topic  7\n",
      "model, child, cancer, trial, lung, outcome, adult, prediction, anxiety, intervention, diagnosis, pneumonia, parameter, score, image\n",
      "\n",
      "Topic  8\n",
      "country, cancer, trial, anxiety, vaccine, death, child, population, depression, model, student, stress, survey, world, development\n",
      "\n",
      "Topic  9\n",
      "vaccine, antibody, development, mortality, student, detection, assay, sensitivity, vaccination, diagnosis, specificity, approach, target, spike, strategy\n",
      "\n",
      "Topic  10\n",
      "woman, transmission, antibody, anxiety, population, cancer, control, vaccine, death, contact, depression, worker, pregnancy, prevalence, detection\n",
      "\n",
      "Topic  11\n",
      "death, woman, emergency, management, lung, admission, pregnancy, antibody, change, outcome, pneumonia, diagnosis, delivery, laboratory, visit\n",
      "\n",
      "Topic  12\n",
      "death, student, transmission, mask, education, face, vaccine, resident, cancer, contact, community, school, staff, worker, home\n",
      "\n",
      "Topic  13\n",
      "woman, vaccine, mortality, pregnancy, population, mask, delivery, cell, model, transmission, face, surgery, recommendation, development, state\n",
      "\n",
      "Topic  14\n",
      "worker, anxiety, vaccine, death, management, surgery, staff, emergency, depression, model, guideline, stress, equipment, recommendation, development\n"
     ]
    }
   ],
   "source": [
    "# Look at components/topics: TFIDF\n",
    "display_topics(lsa_tfidf, tfidf.get_feature_names(), 15)"
   ]
  },
  {
   "cell_type": "markdown",
   "metadata": {},
   "source": [
    "## Corex"
   ]
  },
  {
   "cell_type": "code",
   "execution_count": 92,
   "metadata": {},
   "outputs": [],
   "source": [
    "from corextopic import corextopic as ct\n",
    "from corextopic import vis_topic as vt"
   ]
  },
  {
   "cell_type": "code",
   "execution_count": 95,
   "metadata": {},
   "outputs": [
    {
     "data": {
      "text/plain": [
       "<corextopic.corextopic.Corex at 0x14ccbb580>"
      ]
     },
     "execution_count": 95,
     "metadata": {},
     "output_type": "execute_result"
    }
   ],
   "source": [
    "# Build Corex model\n",
    "words = list(np.array(tfidf.get_feature_names()))\n",
    "topic_model = ct.Corex(n_hidden=5, words=words, seed=1)\n",
    "topic_model.fit(dtm_tfidf, words=words, docs=text_l)"
   ]
  },
  {
   "cell_type": "code",
   "execution_count": 96,
   "metadata": {},
   "outputs": [
    {
     "name": "stdout",
     "output_type": "stream",
     "text": [
      "0: lung,injury,mortality,admission,ards,pneumonia,anxiety,failure,inflammation,student\n",
      "1: cell,compound,receptor,protease,host,spike,inhibitor,target,mutation,sequence\n",
      "2: corrects_article_doi,null,african_american,observe,occasion,pandemia,parkinson,patent,plot,precise\n",
      "3: afterwards,isothermal_amplification,life_threatening,light,linkage,maneuver,mini,necessitates,node,oral_cavity\n",
      "4: achieve,overcome,overview,pathologist,pearson_correlation,pertinent,pilot,preprints,present,progress\n"
     ]
    }
   ],
   "source": [
    "# Look at topics\n",
    "topics = topic_model.get_topics()\n",
    "for n,topic in enumerate(topics):\n",
    "    topic_words,_ = zip(*topic)\n",
    "    print('{}: '.format(n) + ','.join(topic_words))"
   ]
  },
  {
   "cell_type": "markdown",
   "metadata": {},
   "source": [
    "I tried several different topic numbers. Corex does not seem to work well for my data."
   ]
  },
  {
   "cell_type": "markdown",
   "metadata": {},
   "source": [
    "## NMF"
   ]
  },
  {
   "cell_type": "markdown",
   "metadata": {},
   "source": [
    "*With count vectorizer*"
   ]
  },
  {
   "cell_type": "code",
   "execution_count": 97,
   "metadata": {},
   "outputs": [],
   "source": [
    "nmf_cv, doc_topic_cv, doc_topic_cv_df, topic_word_cv_df = \\\n",
    "nmf_model(n_components=15, dtm=dtm_cv, vectorizer=cv, abstract_labels=pmids)"
   ]
  },
  {
   "cell_type": "code",
   "execution_count": 98,
   "metadata": {},
   "outputs": [
    {
     "name": "stdout",
     "output_type": "stream",
     "text": [
      "\n",
      "Topic  0\n",
      "management, emergency, information, surgery, change, activity, crisis, community, strategy, resource, survey, recommendation, challenge, support, guideline\n",
      "\n",
      "Topic  1\n",
      "cell, expression, receptor, host, gene, entry, tissue, target, lung, mechanism, interaction, replication, activity, cytokine, inhibitor\n",
      "\n",
      "Topic  2\n",
      "mortality, outcome, admission, population, association, cohort, comorbidities, morbidity, hypertension, incidence, hospitalization, mechanical_ventilation, ratio, severity, odds\n",
      "\n",
      "Topic  3\n",
      "model, prediction, parameter, intervention, population, dynamic, approach, scenario, estimate, spread, simulation, state, network, regression, distancing\n",
      "\n",
      "Topic  4\n",
      "trial, intervention, protocol, outcome, randomization, safety, design, size, efficacy, hydroxychloroquine, control, placebo, phase, improvement, registration\n",
      "\n",
      "Topic  5\n",
      "cancer, surgery, delay, breast, diagnosis, recommendation, tumor, outcome, lung, oncology, management, stage, resource, chemotherapy, malignancy\n",
      "\n",
      "Topic  6\n",
      "child, adult, family, parent, school, adolescent, home, population, condition, household, caregiver, multisystem, childrens, infant, history\n",
      "\n",
      "Topic  7\n",
      "lung, admission, pneumonia, severity, diagnosis, injury, outcome, laboratory, score, lesion, failure, sensitivity, detection, hospitalization, cohort\n",
      "\n",
      "Topic  8\n",
      "country, population, world, policy, government, spread, organization, strategy, incidence, capacity, crisis, income, growth, prevalence, distancing\n",
      "\n",
      "Topic  9\n",
      "vaccine, antibody, development, vaccination, assay, candidate, detection, spike, population, target, strategy, receptor, epitope, immunity, world\n",
      "\n",
      "Topic  10\n",
      "transmission, control, contact, prevention, spread, community, strategy, intervention, isolation, population, worker, distancing, exposure, droplet, staff\n",
      "\n",
      "Topic  11\n",
      "death, population, state, admission, outcome, comorbidities, estimate, hospitalization, home, resident, ratio, association, proportion, county, condition\n",
      "\n",
      "Topic  12\n",
      "mask, face, worker, respirator, equipment, protection, community, droplet, particle, shortage, decontamination, efficacy, design, setting, shield\n",
      "\n",
      "Topic  13\n",
      "woman, pregnancy, outcome, delivery, population, cohort, birth, mother, infant, support, neonate, newborn, admission, course, gender\n",
      "\n",
      "Topic  14\n",
      "anxiety, depression, student, stress, survey, score, worker, questionnaire, disorder, population, prevalence, scale, respondent, distress, support\n"
     ]
    }
   ],
   "source": [
    "# Look at topics\n",
    "display_topics(nmf_cv, cv.get_feature_names(), 15)"
   ]
  },
  {
   "cell_type": "markdown",
   "metadata": {},
   "source": [
    "Most of these topics make sense but there is definitely room for improvement. I will try TFIDF vectorization to compare."
   ]
  },
  {
   "cell_type": "markdown",
   "metadata": {},
   "source": [
    "*With tfidf vectorizer*"
   ]
  },
  {
   "cell_type": "code",
   "execution_count": 100,
   "metadata": {},
   "outputs": [],
   "source": [
    "nmf_tfidf, doc_topic_tfidf, doc_topic_tfidf_df, topic_word_tfidf_df = \\\n",
    "nmf_model(n_components=15, dtm=dtm_tfidf, vectorizer=tfidf, abstract_labels=pmids)"
   ]
  },
  {
   "cell_type": "code",
   "execution_count": 101,
   "metadata": {},
   "outputs": [
    {
     "name": "stdout",
     "output_type": "stream",
     "text": [
      "\n",
      "Topic  0\n",
      "management, challenge, crisis, emergency, recommendation, community, resource, experience, guideline, change, support, staff, strategy, provider, information\n",
      "\n",
      "Topic  1\n",
      "cell, expression, lung, receptor, host, tissue, gene, entry, cytokine, inflammation, activation, mechanism, damage, inflammatory, injury\n",
      "\n",
      "Topic  2\n",
      "mortality, admission, outcome, injury, severity, comorbidities, cohort, hospitalization, pneumonia, mechanical_ventilation, failure, hypertension, laboratory, kidney, association\n",
      "\n",
      "Topic  3\n",
      "child, adult, family, parent, adolescent, school, multisystem, infant, course, condition, population, childrens, fever, lesion, mis_c\n",
      "\n",
      "Topic  4\n",
      "cancer, oncology, lung, breast, tumor, diagnosis, chemotherapy, management, malignancy, delay, recommendation, oncologist, outcome, radiotherapy, radiation\n",
      "\n",
      "Topic  5\n",
      "anxiety, depression, stress, student, survey, disorder, questionnaire, worker, score, respondent, scale, prevalence, distress, population, behavior\n",
      "\n",
      "Topic  6\n",
      "antibody, detection, assay, sensitivity, specificity, diagnosis, serum, titer, laboratory, neutralization, specimen, antigen, spike, immunity, reaction\n",
      "\n",
      "Topic  7\n",
      "death, population, estimate, state, comorbidities, hospitalization, toll, ratio, proportion, resident, county, adult, condition, united_states, autopsy\n",
      "\n",
      "Topic  8\n",
      "vaccine, trial, development, efficacy, candidate, vaccination, safety, world, strategy, agent, effort, intervention, design, therapeutic, immunity\n",
      "\n",
      "Topic  9\n",
      "model, prediction, parameter, intervention, dynamic, estimate, population, scenario, simulation, trend, approach, accuracy, distancing, forecast, curve\n",
      "\n",
      "Topic  10\n",
      "transmission, control, contact, mask, prevention, spread, worker, droplet, isolation, cluster, community, route, exposure, strategy, intervention\n",
      "\n",
      "Topic  11\n",
      "country, world, population, spread, government, organization, policy, strategy, incidence, economy, control, italy, restriction, capacity, income\n",
      "\n",
      "Topic  12\n",
      "woman, pregnancy, delivery, outcome, mother, infant, birth, neonate, pneumonia, newborn, cesarean_section, population, postpartum, course, labor\n",
      "\n",
      "Topic  13\n",
      "surgery, emergency, surgeon, operation, activity, staff, recommendation, guideline, trauma, equipment, safety, reduction, volume, resource, protocol\n",
      "\n",
      "Topic  14\n",
      "inhibitor, compound, activity, target, protease, interaction, host, receptor, structure, molecule, site, replication, mechanism, sequence, agent\n"
     ]
    }
   ],
   "source": [
    "# Look at topics\n",
    "display_topics(nmf_tfidf, tfidf.get_feature_names(), 15)"
   ]
  },
  {
   "cell_type": "markdown",
   "metadata": {},
   "source": [
    "The topics here appear more coherent than those obtained from count vectorization."
   ]
  },
  {
   "cell_type": "markdown",
   "metadata": {},
   "source": [
    "### Comparing vectorization methods"
   ]
  },
  {
   "cell_type": "markdown",
   "metadata": {},
   "source": [
    "I will continue comparison of the methods by trying different numbers of topics."
   ]
  },
  {
   "cell_type": "markdown",
   "metadata": {},
   "source": [
    "*10 topics*"
   ]
  },
  {
   "cell_type": "code",
   "execution_count": 102,
   "metadata": {},
   "outputs": [
    {
     "name": "stdout",
     "output_type": "stream",
     "text": [
      "10 topics: \n",
      "\n",
      "\n",
      "Topic  0\n",
      "transmission, control, management, emergency, community, strategy, information, contact, worker, staff, change, mask, surgery, prevention, guideline\n",
      "\n",
      "Topic  1\n",
      "cell, expression, receptor, lung, host, gene, entry, tissue, mechanism, target, function, inflammation, interaction, cytokine, replication\n",
      "\n",
      "Topic  2\n",
      "mortality, death, outcome, admission, severity, cohort, injury, comorbidities, hospitalization, association, population, score, laboratory, woman, mechanical_ventilation\n",
      "\n",
      "Topic  3\n",
      "country, death, population, world, policy, government, spread, organization, strategy, incidence, crisis, capacity, estimate, income, growth\n",
      "\n",
      "Topic  4\n",
      "trial, intervention, protocol, outcome, randomization, safety, design, size, efficacy, hydroxychloroquine, control, placebo, phase, improvement, registration\n",
      "\n",
      "Topic  5\n",
      "cancer, surgery, lung, management, diagnosis, recommendation, delay, breast, outcome, tumor, oncology, stage, resource, guideline, challenge\n",
      "\n",
      "Topic  6\n",
      "child, adult, family, parent, school, adolescent, home, transmission, population, laboratory, condition, pneumonia, diagnosis, contact, household\n",
      "\n",
      "Topic  7\n",
      "model, prediction, parameter, intervention, population, transmission, dynamic, spread, estimate, scenario, approach, image, lung, simulation, sensitivity\n",
      "\n",
      "Topic  8\n",
      "anxiety, depression, student, survey, stress, woman, score, questionnaire, worker, disorder, population, prevalence, scale, respondent, support\n",
      "\n",
      "Topic  9\n",
      "vaccine, antibody, development, detection, vaccination, assay, candidate, population, spike, target, sensitivity, receptor, strategy, immunity, serum\n"
     ]
    }
   ],
   "source": [
    "compare_topics(cv, text_l, 10)"
   ]
  },
  {
   "cell_type": "code",
   "execution_count": 103,
   "metadata": {},
   "outputs": [
    {
     "name": "stdout",
     "output_type": "stream",
     "text": [
      "10 topics: \n",
      "\n",
      "\n",
      "Topic  0\n",
      "management, emergency, surgery, recommendation, staff, challenge, resource, guideline, crisis, experience, worker, change, equipment, support, community\n",
      "\n",
      "Topic  1\n",
      "cell, receptor, expression, host, lung, gene, entry, mechanism, tissue, target, inhibitor, replication, interaction, cytokine, inflammation\n",
      "\n",
      "Topic  2\n",
      "mortality, death, admission, outcome, injury, severity, comorbidities, cohort, hospitalization, failure, pneumonia, mechanical_ventilation, hypertension, laboratory, association\n",
      "\n",
      "Topic  3\n",
      "child, adult, family, parent, adolescent, school, multisystem, infant, course, condition, fever, lesion, childrens, diagnosis, laboratory\n",
      "\n",
      "Topic  4\n",
      "cancer, surgery, oncology, lung, breast, tumor, chemotherapy, diagnosis, malignancy, delay, oncologist, outcome, recommendation, radiotherapy, management\n",
      "\n",
      "Topic  5\n",
      "anxiety, depression, student, stress, woman, survey, disorder, questionnaire, score, worker, respondent, prevalence, scale, population, distress\n",
      "\n",
      "Topic  6\n",
      "antibody, detection, assay, sensitivity, specificity, diagnosis, serum, laboratory, titer, specimen, neutralization, spike, antigen, reaction, immunity\n",
      "\n",
      "Topic  7\n",
      "country, transmission, control, spread, world, population, contact, death, prevention, community, strategy, government, policy, organization, distancing\n",
      "\n",
      "Topic  8\n",
      "vaccine, trial, development, efficacy, candidate, agent, target, safety, world, inhibitor, vaccination, strategy, compound, approach, therapeutic\n",
      "\n",
      "Topic  9\n",
      "model, prediction, parameter, dynamic, intervention, estimate, simulation, approach, scenario, trend, accuracy, forecast, state, population, curve\n"
     ]
    }
   ],
   "source": [
    "compare_topics(tfidf, text_l, 10)"
   ]
  },
  {
   "cell_type": "markdown",
   "metadata": {},
   "source": [
    "These topics are not as coherent compared to 15 topics."
   ]
  },
  {
   "cell_type": "markdown",
   "metadata": {},
   "source": [
    "*20 topics*"
   ]
  },
  {
   "cell_type": "code",
   "execution_count": 104,
   "metadata": {},
   "outputs": [
    {
     "name": "stdout",
     "output_type": "stream",
     "text": [
      "20 topics: \n",
      "\n",
      "\n",
      "Topic  0\n",
      "management, emergency, surgery, recommendation, information, guideline, resource, staff, crisis, support, strategy, challenge, community, experience, approach\n",
      "\n",
      "Topic  1\n",
      "cell, expression, receptor, host, gene, entry, tissue, mechanism, cytokine, target, replication, function, activation, interaction, inflammation\n",
      "\n",
      "Topic  2\n",
      "mortality, morbidity, association, comorbidities, cohort, hypertension, incidence, ratio, injury, ards, score, predictor, kidney, odds, meta\n",
      "\n",
      "Topic  3\n",
      "country, world, policy, government, spread, organization, strategy, crisis, capacity, growth, income, restriction, incidence, resource, economy\n",
      "\n",
      "Topic  4\n",
      "trial, intervention, protocol, randomization, safety, size, design, efficacy, outcome, hydroxychloroquine, placebo, phase, registration, improvement, standard\n",
      "\n",
      "Topic  5\n",
      "cancer, surgery, delay, breast, tumor, oncology, diagnosis, recommendation, outcome, stage, resource, chemotherapy, malignancy, radiotherapy, radiation\n",
      "\n",
      "Topic  6\n",
      "child, adult, family, parent, school, adolescent, home, caregiver, condition, multisystem, household, childrens, infant, laboratory, history\n",
      "\n",
      "Topic  7\n",
      "model, prediction, parameter, intervention, approach, dynamic, scenario, spread, simulation, estimate, accuracy, network, regression, image, validation\n",
      "\n",
      "Topic  8\n",
      "anxiety, depression, stress, survey, worker, score, disorder, questionnaire, scale, prevalence, respondent, distress, support, intervention, staff\n",
      "\n",
      "Topic  9\n",
      "vaccine, antibody, development, vaccination, assay, detection, candidate, spike, strategy, epitope, immunity, receptor, world, serum, sensitivity\n",
      "\n",
      "Topic  10\n",
      "transmission, contact, spread, community, worker, isolation, intervention, droplet, exposure, distancing, household, strategy, cluster, dynamic, route\n",
      "\n",
      "Topic  11\n",
      "outcome, admission, severity, hospitalization, cohort, injury, laboratory, comorbidities, mechanical_ventilation, score, association, failure, hypertension, course, odds\n",
      "\n",
      "Topic  12\n",
      "death, state, estimate, resident, comorbidities, ratio, home, world, county, trend, proportion, percentage, life, heart, scenario\n",
      "\n",
      "Topic  13\n",
      "woman, pregnancy, delivery, outcome, birth, mother, infant, neonate, support, newborn, gender, course, change, cohort, labor\n",
      "\n",
      "Topic  14\n",
      "student, education, school, survey, university, program, online, experience, course, college, training, questionnaire, attitude, resident, learning\n",
      "\n",
      "Topic  15\n",
      "population, community, state, prevalence, incidence, adult, policy, county, strategy, distancing, condition, proportion, intervention, density, information\n",
      "\n",
      "Topic  16\n",
      "control, prevention, strategy, intervention, detection, spread, diagnosis, contact, isolation, reduction, government, improvement, sensitivity, facility, parameter\n",
      "\n",
      "Topic  17\n",
      "lung, pneumonia, diagnosis, lesion, injury, detection, severity, chest, ards, image, sensitivity, score, stage, tissue, consolidation\n",
      "\n",
      "Topic  18\n",
      "mask, face, worker, respirator, protection, equipment, community, droplet, particle, shortage, behavior, decontamination, distancing, efficacy, design\n",
      "\n",
      "Topic  19\n",
      "activity, change, inhibitor, target, compound, interaction, reduction, protease, home, behavior, host, receptor, structure, mechanism, life\n"
     ]
    }
   ],
   "source": [
    "compare_topics(cv, text_l, 20)"
   ]
  },
  {
   "cell_type": "code",
   "execution_count": 105,
   "metadata": {},
   "outputs": [
    {
     "name": "stdout",
     "output_type": "stream",
     "text": [
      "20 topics: \n",
      "\n",
      "\n",
      "Topic  0\n",
      "management, recommendation, emergency, guideline, world, prevention, control, organization, strategy, staff, diagnosis, society, experience, resource, guidance\n",
      "\n",
      "Topic  1\n",
      "cell, expression, receptor, host, gene, entry, tissue, cytokine, activation, inflammation, mechanism, immunity, lung, function, inflammatory\n",
      "\n",
      "Topic  2\n",
      "mortality, admission, outcome, cohort, severity, comorbidities, hospitalization, association, hypertension, morbidity, mechanical_ventilation, incidence, odds, obesity, population\n",
      "\n",
      "Topic  3\n",
      "child, adult, family, parent, adolescent, school, multisystem, infant, childrens, condition, course, mis_c, fever, kawasaki, population\n",
      "\n",
      "Topic  4\n",
      "cancer, oncology, breast, tumor, chemotherapy, malignancy, lung, delay, oncologist, diagnosis, radiotherapy, outcome, radiation, prostate, stage\n",
      "\n",
      "Topic  5\n",
      "anxiety, depression, stress, disorder, survey, score, questionnaire, scale, prevalence, distress, respondent, problem, status, population, fear\n",
      "\n",
      "Topic  6\n",
      "antibody, detection, assay, sensitivity, specificity, serum, diagnosis, titer, neutralization, spike, specimen, antigen, laboratory, prevalence, immunity\n",
      "\n",
      "Topic  7\n",
      "community, crisis, change, policy, challenge, population, information, access, home, support, technology, state, government, program, distancing\n",
      "\n",
      "Topic  8\n",
      "vaccine, development, vaccination, candidate, world, epitope, strategy, immunity, effort, therapeutic, approach, immunization, challenge, protection, influenza\n",
      "\n",
      "Topic  9\n",
      "model, prediction, parameter, dynamic, intervention, estimate, scenario, simulation, accuracy, forecast, trend, curve, approach, growth, population\n",
      "\n",
      "Topic  10\n",
      "transmission, contact, control, spread, prevention, droplet, cluster, isolation, route, intervention, community, strategy, source, detection, surveillance\n",
      "\n",
      "Topic  11\n",
      "country, world, spread, organization, government, population, policy, strategy, italy, incidence, economy, capacity, growth, income, nation\n",
      "\n",
      "Topic  12\n",
      "woman, pregnancy, delivery, outcome, mother, infant, birth, neonate, newborn, cesarean_section, postpartum, population, course, labor, gender\n",
      "\n",
      "Topic  13\n",
      "surgery, surgeon, emergency, operation, activity, staff, volume, trauma, reduction, resource, safety, admission, survey, plastic, equipment\n",
      "\n",
      "Topic  14\n",
      "trial, efficacy, safety, intervention, hydroxychloroquine, outcome, protocol, agent, randomization, remdesivir, improvement, phase, quality, control, registration\n",
      "\n",
      "Topic  15\n",
      "inhibitor, compound, target, activity, protease, interaction, receptor, host, structure, molecule, site, replication, mechanism, energy, sequence\n",
      "\n",
      "Topic  16\n",
      "student, education, school, university, college, program, online, course, experience, training, learning, curriculum, faculty, survey, attitude\n",
      "\n",
      "Topic  17\n",
      "lung, pneumonia, injury, diagnosis, failure, lesion, ards, chest, severity, kidney, course, computed_tomography, laboratory, distress, inflammation\n",
      "\n",
      "Topic  18\n",
      "death, population, estimate, state, comorbidities, failure, hospitalization, toll, ratio, heart, proportion, condition, autopsy, county, united_states\n",
      "\n",
      "Topic  19\n",
      "worker, mask, face, equipment, staff, protection, respirator, work, hcws, exposure, nurse, safety, shortage, facility, droplet\n"
     ]
    },
    {
     "name": "stderr",
     "output_type": "stream",
     "text": [
      "/Users/sunnajo/anaconda3/envs/metis/lib/python3.8/site-packages/sklearn/decomposition/_nmf.py:1076: ConvergenceWarning: Maximum number of iterations 200 reached. Increase it to improve convergence.\n",
      "  warnings.warn(\"Maximum number of iterations %d reached. Increase it to\"\n"
     ]
    }
   ],
   "source": [
    "compare_topics(tfidf, text_l, 20)"
   ]
  },
  {
   "cell_type": "markdown",
   "metadata": {},
   "source": [
    "These topics seem more coherent. So far: 10 topics < 15 topics < 20 topics."
   ]
  },
  {
   "cell_type": "markdown",
   "metadata": {},
   "source": [
    "### Optimizing model"
   ]
  },
  {
   "cell_type": "markdown",
   "metadata": {},
   "source": [
    "We now want to select the best number of topics. I will do this by measuring the coherence score for various values for the number of topics. Since measuring coherence score is not possible with the sklearn implementation of NMF (but I went with this method because of the ability to implement TFIDF vectorization), I will do this by implementing the gensim version of NMF and using the optimal # of topics as a parameter for my sklearn model.\n",
    "\n",
    "The above approach and code were adapted from: https://towardsdatascience.com/topic-modeling-articles-with-nmf-8c6b2a227a45."
   ]
  },
  {
   "cell_type": "code",
   "execution_count": 18,
   "metadata": {},
   "outputs": [
    {
     "data": {
      "image/png": "[encoded data removed]",
      "text/plain": [
       "<Figure size 576x360 with 1 Axes>"
      ]
     },
     "metadata": {
      "needs_background": "light"
     },
     "output_type": "display_data"
    }
   ],
   "source": [
    "nmf_coherence_scores(text_l, min_df, max_df)"
   ]
  },
  {
   "cell_type": "markdown",
   "metadata": {},
   "source": [
    "It looks like 20 topics gives the highest coherence score with 15 and 25 being close.\n",
    "\n",
    "I also ran the model with 15, 20, and 25 topics and it looks like 20 topics is the best iteration."
   ]
  },
  {
   "cell_type": "markdown",
   "metadata": {},
   "source": [
    "## k-means clustering"
   ]
  },
  {
   "cell_type": "markdown",
   "metadata": {},
   "source": [
    "I will now try clustering of the document-term matrix obtained with TFIDF vectorization."
   ]
  },
  {
   "cell_type": "code",
   "execution_count": 117,
   "metadata": {},
   "outputs": [
    {
     "name": "stderr",
     "output_type": "stream",
     "text": [
      "/Users/sunnajo/metis/onl20_ds4/projects/project4/topic_modeling.py:433: UserWarning: Matplotlib is currently using agg, which is a non-GUI backend, so cannot show the figure.\n",
      "  plt.show()\n"
     ]
    },
    {
     "data": {
      "image/png": "[encoded data removed]",
      "text/plain": [
       "<Figure size 432x288 with 1 Axes>"
      ]
     },
     "metadata": {
      "needs_background": "light"
     },
     "output_type": "display_data"
    }
   ],
   "source": [
    "# Determine optimal number of clusters\n",
    "kmeans_clusters(max_clusters=25, dtm=dtm_tfidf)"
   ]
  },
  {
   "cell_type": "markdown",
   "metadata": {},
   "source": [
    "There is a possible elbow at 19 clusters."
   ]
  },
  {
   "cell_type": "markdown",
   "metadata": {},
   "source": [
    "I will also try clustering of the topics obtained from NMF with TFIDF vectorization to see if there are any interesting patterns."
   ]
  },
  {
   "cell_type": "code",
   "execution_count": 119,
   "metadata": {},
   "outputs": [
    {
     "name": "stderr",
     "output_type": "stream",
     "text": [
      "/Users/sunnajo/anaconda3/envs/metis/lib/python3.8/site-packages/sklearn/cluster/_kmeans.py:938: FutureWarning: 'n_jobs' was deprecated in version 0.23 and will be removed in 0.25.\n",
      "  warnings.warn(\"'n_jobs' was deprecated in version 0.23 and will be\"\n",
      "/Users/sunnajo/anaconda3/envs/metis/lib/python3.8/site-packages/sklearn/cluster/_kmeans.py:938: FutureWarning: 'n_jobs' was deprecated in version 0.23 and will be removed in 0.25.\n",
      "  warnings.warn(\"'n_jobs' was deprecated in version 0.23 and will be\"\n",
      "/Users/sunnajo/metis/onl20_ds4/projects/project4/topic_modeling.py:465: UserWarning: Matplotlib is currently using agg, which is a non-GUI backend, so cannot show the figure.\n"
     ]
    },
    {
     "data": {
      "image/png": "[encoded data removed]",
      "text/plain": [
       "<Figure size 576x432 with 1 Axes>"
      ]
     },
     "metadata": {
      "needs_background": "light"
     },
     "output_type": "display_data"
    }
   ],
   "source": [
    "# 3 clusters\n",
    "kmeans(doc_topic_tfidf, n_clusters=3)"
   ]
  },
  {
   "cell_type": "code",
   "execution_count": 120,
   "metadata": {},
   "outputs": [
    {
     "name": "stderr",
     "output_type": "stream",
     "text": [
      "/Users/sunnajo/anaconda3/envs/metis/lib/python3.8/site-packages/sklearn/cluster/_kmeans.py:938: FutureWarning: 'n_jobs' was deprecated in version 0.23 and will be removed in 0.25.\n",
      "  warnings.warn(\"'n_jobs' was deprecated in version 0.23 and will be\"\n",
      "/Users/sunnajo/anaconda3/envs/metis/lib/python3.8/site-packages/sklearn/cluster/_kmeans.py:938: FutureWarning: 'n_jobs' was deprecated in version 0.23 and will be removed in 0.25.\n",
      "  warnings.warn(\"'n_jobs' was deprecated in version 0.23 and will be\"\n",
      "/Users/sunnajo/metis/onl20_ds4/projects/project4/topic_modeling.py:465: UserWarning: Matplotlib is currently using agg, which is a non-GUI backend, so cannot show the figure.\n"
     ]
    },
    {
     "data": {
      "image/png": "[encoded data removed]",
      "text/plain": [
       "<Figure size 576x432 with 1 Axes>"
      ]
     },
     "metadata": {
      "needs_background": "light"
     },
     "output_type": "display_data"
    }
   ],
   "source": [
    "# 20 clusters\n",
    "kmeans(doc_topic_tfidf, n_clusters=20)"
   ]
  },
  {
   "cell_type": "markdown",
   "metadata": {},
   "source": [
    "It looks like the topics are more separable."
   ]
  },
  {
   "cell_type": "markdown",
   "metadata": {},
   "source": [
    "#### Summary:\n",
    "We have tried various methods of topic modeling and clustering. It looks like NMF with TFIDF vectorization will be the best approach for topic modeling."
   ]
  }
 ],
 "metadata": {
  "kernelspec": {
   "display_name": "Python [conda env:metis] *",
   "language": "python",
   "name": "conda-env-metis-py"
  },
  "language_info": {
   "codemirror_mode": {
    "name": "ipython",
    "version": 3
   },
   "file_extension": ".py",
   "mimetype": "text/x-python",
   "name": "python",
   "nbconvert_exporter": "python",
   "pygments_lexer": "ipython3",
   "version": "3.8.5"
  },
  "toc": {
   "base_numbering": 1,
   "nav_menu": {},
   "number_sections": false,
   "sideBar": true,
   "skip_h1_title": false,
   "title_cell": "Table of Contents",
   "title_sidebar": "Contents",
   "toc_cell": false,
   "toc_position": {},
   "toc_section_display": true,
   "toc_window_display": false
  }
 },
 "nbformat": 4,
 "nbformat_minor": 4
}
